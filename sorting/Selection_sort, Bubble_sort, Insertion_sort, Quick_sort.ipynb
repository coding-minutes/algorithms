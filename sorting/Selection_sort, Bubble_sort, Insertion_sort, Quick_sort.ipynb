{
 "cells": [
  {
   "cell_type": "code",
   "execution_count": 1,
   "metadata": {},
   "outputs": [
    {
     "data": {
      "text/plain": [
       "[0, 2, 4, 9, 12, 13]"
      ]
     },
     "execution_count": 1,
     "metadata": {},
     "output_type": "execute_result"
    }
   ],
   "source": [
    "#selection sort\n",
    "arr=[4,2,9,13,12,0]\n",
    "for i in range(len(arr)):\n",
    "    min_index=i\n",
    "    for j in range(i+1,len(arr)):\n",
    "        if arr[j]<arr[i]:\n",
    "            min_index=j\n",
    "    arr[i],arr[min_index]=arr[min_index],arr[i]\n",
    "arr"
   ]
  },
  {
   "cell_type": "code",
   "execution_count": 97,
   "metadata": {},
   "outputs": [
    {
     "data": {
      "text/plain": [
       "[1, 2, 4, 8, 9]"
      ]
     },
     "execution_count": 97,
     "metadata": {},
     "output_type": "execute_result"
    }
   ],
   "source": [
    "#bubble sort\n",
    "arr=[4,2,8,1,9]\n",
    "n=len(arr)\n",
    "for i in range(n-1):\n",
    "    for j in range(n-i-1):\n",
    "        if arr[j]>arr[j+1]:\n",
    "            arr[j],arr[j+1]=arr[j+1],arr[j]\n",
    "arr\n"
   ]
  },
  {
   "cell_type": "code",
   "execution_count": 9,
   "metadata": {},
   "outputs": [
    {
     "data": {
      "text/plain": [
       "[0, 2, 4, 9, 12, 13]"
      ]
     },
     "execution_count": 9,
     "metadata": {},
     "output_type": "execute_result"
    }
   ],
   "source": [
    "#insertion sort\n",
    "arr=[4,2,9,13,12,0]\n",
    "n=len(arr)\n",
    "for i in range(1,n):\n",
    "    key=arr[i]\n",
    "    j=i-1\n",
    "    while(j>=0 and arr[j]>key):\n",
    "        arr[j+1],arr[j]=arr[j],arr[j+1]\n",
    "        j-=1\n",
    "  \n",
    "\n",
    "arr  "
   ]
  },
  {
   "cell_type": "code",
   "execution_count": 50,
   "metadata": {},
   "outputs": [
    {
     "data": {
      "text/plain": [
       "[0, 3, 10, 17, 18]"
      ]
     },
     "execution_count": 50,
     "metadata": {},
     "output_type": "execute_result"
    }
   ],
   "source": [
    "#quick sort with 1st el as pivot\n",
    "def partition(arr,l,h):\n",
    "    j=h      #len(arr)-1\n",
    "    i=l+1\n",
    "    pivot=arr[l]\n",
    "    while i<=j:\n",
    "        while arr[i]<pivot and i<h:\n",
    "            i+=1\n",
    "        while arr[j]>pivot:\n",
    "            j-=1\n",
    "        if i<j:\n",
    "            arr[i],arr[j]=arr[j],arr[i]\n",
    "        else:\n",
    "            i+=1\n",
    "    arr[j],arr[l]=arr[l],arr[j]\n",
    "    return j\n",
    "\n",
    "def quicksort(arr,l,h):\n",
    "    if l>=h:\n",
    "        return\n",
    "    j=partition(arr,l,h)\n",
    "    quicksort(arr,l,j-1)\n",
    "    quicksort(arr,j+1,h)\n",
    "\n",
    "\n",
    "arr=[10,17,18,0,3]\n",
    "quicksort(arr,0,len(arr)-1)\n",
    "arr\n",
    "\n",
    "\n",
    "        \n",
    "        \n",
    " \n"
   ]
  },
  {
   "cell_type": "code",
   "execution_count": 56,
   "metadata": {},
   "outputs": [
    {
     "data": {
      "text/plain": [
       "[18, 17, 10, 3, 0]"
      ]
     },
     "execution_count": 56,
     "metadata": {},
     "output_type": "execute_result"
    }
   ],
   "source": [
    "#quick sort with last el as pivot\n",
    "def partition(arr,l,h):\n",
    "    pivot=arr[h]\n",
    "    j=l\n",
    "    i=h-1\n",
    "    while(i>=j):\n",
    "        while(arr[i]<pivot and i>=l):\n",
    "            i-=1\n",
    "        while(arr[j]>pivot):\n",
    "            j+=1\n",
    "        if i>j:\n",
    "            arr[i],arr[j]=arr[j],arr[i]\n",
    "        else:\n",
    "            i-=1\n",
    "    arr[j],arr[h]=arr[h],arr[j]\n",
    "    return j\n",
    "\n",
    "def quicksort(arr,l,h):\n",
    "    if l>=h:\n",
    "        return\n",
    "    j=partition(arr,l,h)\n",
    "    quicksort(arr,l,j-1)\n",
    "    quicksort(arr,j+1,h)\n",
    "\n",
    "        \n",
    "\n",
    "arr=[10,17,18,0,3]\n",
    "quicksort(arr,0,len(arr)-1)\n",
    "arr\n",
    "\n",
    "        "
   ]
  },
  {
   "cell_type": "code",
   "execution_count": 62,
   "metadata": {},
   "outputs": [
    {
     "data": {
      "text/plain": [
       "[0, 3, 10, 18, 17]"
      ]
     },
     "execution_count": 62,
     "metadata": {},
     "output_type": "execute_result"
    }
   ],
   "source": [
    "# quick sort with random element as pivot\n",
    "def partition(arr,l,h,el):\n",
    "    if el is not None:\n",
    "        arr[l],arr[arr.index(el)]=arr[arr.index(el)],arr[l]\n",
    "    pivot=arr[l]\n",
    "    i=l+1\n",
    "    j=h\n",
    "    while(i<=j):\n",
    "        while(arr[i]<=pivot and i<h):\n",
    "            i+=1\n",
    "        while(arr[j]>pivot):\n",
    "            j-=1\n",
    "        if i<j:\n",
    "            arr[i],arr[j]=arr[j],arr[i]\n",
    "        else:\n",
    "            i+=1\n",
    "        arr[j],arr[l]=arr[l],arr[j]\n",
    "    return j\n",
    "\n",
    "\n",
    "def quicksort(arr,l,h,el=None):\n",
    "    if l>=h:\n",
    "        return\n",
    "    j=partition(arr,l,h,el)\n",
    "    quicksort(arr,l,j-1)\n",
    "    quicksort(arr,j+1,h)\n",
    "\n",
    "arr=[10,17,18,0,3]\n",
    "el=3\n",
    "quicksort(arr,0,len(arr)-1,el)\n",
    "arr\n"
   ]
  },
  {
   "cell_type": "markdown",
   "metadata": {},
   "source": [
    "Quick sort best case: O(nlogn) when partioning is done with median element as the pivot. We cannot say whether the pivot element is median or not beforehand. So best case every time is not possible.\n",
    "\n",
    "Worst case time is O(n^2) when the arr is already sorted whether ascending or descending. We can select middle element as pivot to improve worst case to O(nlogn)"
   ]
  },
  {
   "cell_type": "code",
   "execution_count": 100,
   "metadata": {},
   "outputs": [
    {
     "name": "stdout",
     "output_type": "stream",
     "text": [
      "[10, 17]\n",
      "[18, 0, 3]\n",
      "[10]\n",
      "[17]\n",
      "[18]\n",
      "[0, 3]\n",
      "[0]\n",
      "[3]\n"
     ]
    },
    {
     "data": {
      "text/plain": [
       "[0, 3, 10, 17, 18]"
      ]
     },
     "execution_count": 100,
     "metadata": {},
     "output_type": "execute_result"
    }
   ],
   "source": [
    "#merge sort\n",
    "from heapq import merge\n",
    "\n",
    "def mergesort(unsorted_list):\n",
    "    if len(unsorted_list) <= 1:\n",
    "        return unsorted_list\n",
    "# Find the middle point and devide it\n",
    "    middle = len(unsorted_list) // 2\n",
    "    left_list = unsorted_list[:middle]\n",
    "    print(left_list)\n",
    "    right_list = unsorted_list[middle:]\n",
    "    print(right_list)\n",
    "\n",
    "    left_list = mergesort(left_list)\n",
    "    right_list = mergesort(right_list)\n",
    "    return list(merge(left_list, right_list))\n",
    "\n",
    "arr=[10,17,18,0,3]\n",
    "mergesort(arr)\n",
    "\n"
   ]
  },
  {
   "cell_type": "code",
   "execution_count": 84,
   "metadata": {},
   "outputs": [
    {
     "name": "stdout",
     "output_type": "stream",
     "text": [
      "[2, 3, 4, 12, 13, 14, 5, 6, 7]\n",
      "[2, 3, 4, 12, 13, 14, 5, 6, 7]\n",
      "[2, 3, 4, 12, 13, 14, 5, 6, 7]\n",
      "[-1, 0, 1, 2, 3, 8]\n",
      "[-1, 0, 1, 2, 3, 8]\n"
     ]
    }
   ],
   "source": [
    "from pandas.core.common import flatten\n",
    "arr=[[2,3,4],[12,13,14],[5,6,7]]\n",
    "print(list(flatten(arr)))\n",
    "\n",
    "print([i for sublist in arr for i in sublist])\n",
    "\n",
    "print(sum(arr,[]))\n",
    "\n",
    "# for merging of two sorted list:\n",
    "list1=[1,2,3]\n",
    "list2=[-1,0,8]\n",
    "\n",
    "from heapq import merge\n",
    "print(list(merge(list1,list2)))\n",
    "\n",
    "print(list(sorted(list1+list2)))\n",
    "\n",
    "\n"
   ]
  },
  {
   "cell_type": "code",
   "execution_count": null,
   "metadata": {},
   "outputs": [],
   "source": [
    "# nothing is going to get printed\n",
    "for i in range(-1):\n",
    "    print(\"hiiii\")\n",
    "for i in range(0):\n",
    "    print(\"hellooo\")"
   ]
  },
  {
   "cell_type": "code",
   "execution_count": null,
   "metadata": {},
   "outputs": [],
   "source": []
  }
 ],
 "metadata": {
  "kernelspec": {
   "display_name": "Python 3",
   "language": "python",
   "name": "python3"
  },
  "language_info": {
   "codemirror_mode": {
    "name": "ipython",
    "version": 3
   },
   "file_extension": ".py",
   "mimetype": "text/x-python",
   "name": "python",
   "nbconvert_exporter": "python",
   "pygments_lexer": "ipython3",
   "version": "3.7.6"
  }
 },
 "nbformat": 4,
 "nbformat_minor": 4
}
